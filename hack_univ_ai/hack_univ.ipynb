{
  "nbformat": 4,
  "nbformat_minor": 0,
  "metadata": {
    "colab": {
      "name": "Copy of  random_forest5.ipynb",
      "provenance": [],
      "collapsed_sections": []
    },
    "kernelspec": {
      "name": "python3",
      "display_name": "Python 3"
    },
    "language_info": {
      "name": "python"
    }
  },
  "cells": [
    {
      "source": [
        "Problem link- https://hack.univ.ai/\n",
        "\n",
        "Solution algorithm- Random Forest\n",
        "\n",
        "ROC_AUC_SCore- 0.89179\n",
        "\n",
        "Position- 7/1065\n"
      ],
      "cell_type": "code",
      "metadata": {},
      "execution_count": null,
      "outputs": []
    },
    {
      "cell_type": "code",
      "metadata": {
        "id": "UyDkcgIfhOgs"
      },
      "source": [
        "import pandas as pd\n",
        "from imblearn.combine import SMOTETomek\n",
        "from imblearn.under_sampling import TomekLinks\n",
        "from imblearn.over_sampling import SMOTE\n",
        "from imblearn.combine import SMOTEENN\n",
        "import collections\n",
        "from sklearn import preprocessing\n",
        "from sklearn.linear_model import LogisticRegression\n",
        "from sklearn.metrics import confusion_matrix, accuracy_score\n",
        "from sklearn.neighbors import KNeighborsClassifier\n",
        "from sklearn.model_selection import train_test_split\n",
        "from sklearn.naive_bayes import GaussianNB\n",
        "from tabulate import tabulate\n",
        "from sklearn import metrics\n",
        "import matplotlib.pyplot as plt\n",
        "from sklearn.cluster import KMeans\n",
        "from sklearn.cluster import DBSCAN\n",
        "from imblearn.under_sampling import RandomUnderSampler\n",
        "from scipy import spatial as spatial\n",
        "from scipy.spatial.distance import cdist\n",
        "from sklearn.mixture import GaussianMixture\n",
        "from scipy.optimize import linear_sum_assignment\n",
        "!pip install category_encoders\n",
        "import category_encoders\n",
        "import numpy as np\n",
        "import matplotlib.pyplot as plt\n",
        "from sklearn.model_selection import cross_val_score, train_test_split\n",
        "from sklearn.metrics import roc_auc_score\n",
        "from sklearn.ensemble import RandomForestClassifier\n",
        "import os\n",
        "import warnings\n",
        "warnings.simplefilter(action='ignore', category=FutureWarning)\n",
        "import seaborn as sns\n",
        "from sklearn.preprocessing import LabelEncoder\n",
        "from sklearn.preprocessing import StandardScaler\n",
        "from sklearn.pipeline import Pipeline\n",
        "from keras.models import Sequential\n",
        "from keras.layers import Dense\n",
        "from keras.wrappers.scikit_learn import KerasClassifier\n",
        "from sklearn.model_selection import StratifiedKFold\n",
        "from sklearn.model_selection import cross_val_score\n",
        "from sklearn.model_selection import cross_validate\n",
        "from sklearn.model_selection import GridSearchCV\n",
        "from time import time\n",
        "from operator import itemgetter\n",
        "import random\n",
        "from sklearn.metrics import roc_curve, auc\n",
        "from imblearn.over_sampling import RandomOverSampler\n",
        "from pprint import pprint\n",
        "from numpy import where\n",
        "from imblearn.under_sampling import NeighbourhoodCleaningRule"
      ],
      "execution_count": null,
      "outputs": []
    },
    {
      "cell_type": "code",
      "metadata": {
        "id": "oOoDZpDGhYvH"
      },
      "source": [
        "from google.colab import drive\n",
        "drive.mount('/content/drive')"
      ],
      "execution_count": null,
      "outputs": []
    },
    {
      "cell_type": "code",
      "metadata": {
        "id": "Zv07ugI6hnxC"
      },
      "source": [
        "path=\"Training Data.csv\"\n",
        "df_train=pd.read_csv(path)\n",
        "path=\"Test Data.csv\"\n",
        "df_test=pd.read_csv(path)"
      ],
      "execution_count": null,
      "outputs": []
    },
    {
      "cell_type": "code",
      "metadata": {
        "id": "LNRm4m2bAQPM"
      },
      "source": [
        "df_train.state=df_train.state.str.replace('[^a-zA-Z]', '')\n",
        "df_train.state=df_train.state.str.lower()\n",
        "df_test.state=df_test.state.str.replace('[^a-zA-Z]', '')\n",
        "df_test.state=df_test.state.str.lower()\n",
        "df_train.city=df_train.city.str.replace('[^a-zA-Z]', '')\n",
        "df_train.city=df_train.city.str.lower()\n",
        "df_test.city=df_test.city.str.replace('[^a-zA-Z]', '')\n",
        "df_test.city=df_test.city.str.lower()\n",
        "df_train.profession=df_train.profession.str.replace('[^a-zA-Z]', '')\n",
        "df_train.profession=df_train.profession.str.lower()\n",
        "df_test.profession=df_test.profession.str.replace('[^a-zA-Z]', '')\n",
        "df_test.profession=df_test.profession.str.lower()"
      ],
      "execution_count": null,
      "outputs": []
    },
    {
      "cell_type": "code",
      "metadata": {
        "id": "YgIuFAu06tIG"
      },
      "source": [
        "df_train.head()"
      ],
      "execution_count": null,
      "outputs": []
    },
    {
      "cell_type": "code",
      "metadata": {
        "id": "8fzmIZneFkvu"
      },
      "source": [
        "for attr in ['married','car_ownership','house_ownership','profession','city','state']:\n",
        "  s1=df_train[attr].unique()\n",
        "  s2=df_test[attr].unique()\n",
        "  for i in s2:\n",
        "    np.append(s1,i)\n",
        "  s1=np.unique(s1)\n",
        "  dict1=dict()\n",
        "  dict0=dict()\n",
        "  for val in s1:\n",
        "    dict1[val]=0\n",
        "    dict0[val]=0\n",
        "  for index,rows in df_train.iterrows():\n",
        "    if(rows['risk_flag']==1):\n",
        "      dict1[rows[attr]]+=1\n",
        "    else:\n",
        "      dict0[rows[attr]]+=1\n",
        "  for i in s1:\n",
        "    #if(dict0[i]==0 and dict1[i]==0):\n",
        "      #dict1[i]=0.000000001\n",
        "      #continue\n",
        "    dict1[i]=dict1[i]/(dict0[i]+dict1[i])\n",
        "  for i in s1:\n",
        "    df_train[attr].replace(to_replace=[i], value=[dict1[i]], inplace=True)\n",
        "    df_test[attr].replace(to_replace=[i], value=[dict1[i]], inplace=True)\n"
      ],
      "execution_count": null,
      "outputs": []
    },
    {
      "cell_type": "code",
      "metadata": {
        "id": "X3WejaurU97j"
      },
      "source": [
        "for attr in ['experience','current_house_years','current_job_years','age']:\n",
        "  s1=df_train[attr].unique()\n",
        "  s2=df_test[attr].unique()\n",
        "  for i in s2:\n",
        "    np.append(s1,i)\n",
        "  s1=np.unique(s1)\n",
        "  dict1=dict()\n",
        "  dict0=dict()\n",
        "  for val in s1:\n",
        "    dict1[val]=0\n",
        "    dict0[val]=0\n",
        "  for index,rows in df_train.iterrows():\n",
        "    if(rows['risk_flag']==1):\n",
        "      dict1[rows[attr]]+=1\n",
        "    else:\n",
        "      dict0[rows[attr]]+=1\n",
        "  for i in s1:\n",
        "    #if(dict0[i]==0 and dict1[i]==0):\n",
        "      #dict1[i]=0.000000001\n",
        "      #continue\n",
        "    dict1[i]=dict1[i]/(dict0[i]+dict1[i])\n",
        "  for i in s1:\n",
        "    df_train[attr].replace(to_replace=[i], value=[dict1[i]], inplace=True)\n",
        "    df_test[attr].replace(to_replace=[i], value=[dict1[i]], inplace=True)\n"
      ],
      "execution_count": null,
      "outputs": []
    },
    {
      "cell_type": "code",
      "metadata": {
        "id": "6Gyj7Ni2Kl89"
      },
      "source": [
        "df_train.rename({'Id':'c0','income':'c1','age':'c2','experience':'c3','married':'c4','house_ownership':'c5','car_ownership':'c6','profession':'c7','city':'c8','state':'c9','current_job_years':'c10','current_house_years':'c11'}, axis=1, inplace=True)\n",
        "df_test.rename({'id':'c0','income':'c1','age':'c2','experience':'c3','married':'c4','house_ownership':'c5','car_ownership':'c6','profession':'c7','city':'c8','state':'c9','current_job_years':'c10','current_house_years':'c11'}, axis=1, inplace=True)"
      ],
      "execution_count": null,
      "outputs": []
    },
    {
      "cell_type": "code",
      "metadata": {
        "id": "RKVPFYlcbd9h"
      },
      "source": [
        "df_train.to_csv('train_v3.csv',index=False)\n",
        "df_test.to_csv('test_v3.csv',index=False)"
      ],
      "execution_count": null,
      "outputs": []
    },
    {
      "cell_type": "code",
      "metadata": {
        "id": "pGpXU_ltbVpp"
      },
      "source": [
        "path=\"train_v3.csv\"\n",
        "df_train=pd.read_csv(path)\n",
        "path=\"test_v3.csv\"\n",
        "df_test=pd.read_csv(path)"
      ],
      "execution_count": 11,
      "outputs": []
    },
    {
      "cell_type": "code",
      "metadata": {
        "id": "yfnITHPg5yff"
      },
      "source": [
        "df_test=df_test[['c1','c2','c3','c6','c7','c8','c9','c10','c11']]\n",
        "train_features=df_train[['c1','c2','c3','c6','c7','c8','c9','c10','c11']]\n",
        "train_labels=df_train['risk_flag']\n"
      ],
      "execution_count": 12,
      "outputs": []
    },
    {
      "cell_type": "code",
      "metadata": {
        "id": "Czr5-MdVrP_Z"
      },
      "source": [
        "rf=RandomForestClassifier()\n",
        "rf.fit(train_features,train_labels)\n",
        "importances = pd.DataFrame({'feature':train_features.columns,'importance':np.round(rf.feature_importances_,3)})\n",
        "importances = importances.sort_values('importance',ascending=False).set_index('feature')\n",
        "\n",
        "importances.head(15)\n",
        "importances.plot.bar()\n"
      ],
      "execution_count": null,
      "outputs": []
    },
    {
      "cell_type": "code",
      "metadata": {
        "id": "5A-uKDAF-RXJ"
      },
      "source": [
        "def get_score(model, X, y, X_val, y_val,test):\n",
        "    model=model.fit(X, y)\n",
        "    y_pred1=model.predict_proba(test)[:,1]\n",
        "    y_pred = model.predict_proba(X_val)[:,1]\n",
        "    score = roc_auc_score(y_val, y_pred)\n",
        "    return score,y_pred,y_pred1"
      ],
      "execution_count": 89,
      "outputs": []
    },
    {
      "cell_type": "code",
      "metadata": {
        "id": "rukDBlPeyljz"
      },
      "source": [
        "X_train, X_test, y_train, y_test = train_test_split(train_features, train_labels, test_size=0.3, random_state=random.randint(23,99),stratify=train_labels)"
      ],
      "execution_count": null,
      "outputs": []
    },
    {
      "cell_type": "code",
      "metadata": {
        "id": "XXjqWXOi9NJb"
      },
      "source": [
        "y_or=[]\n",
        "y_t=[]\n",
        "for i in range(75600):\n",
        "  y_or.append(0)\n",
        "for i in range(28000):\n",
        "  y_t.append(0)\n",
        "for i in range(20):\n",
        "  num1=random.randint(0,2)\n",
        "  num2=random.randint(0,2)\n",
        "  num3=random.randint(0,2)\n",
        "  peri1=[40,70,100]\n",
        "  peri3=['sqrt','log2','auto']\n",
        "  clf = RandomForestClassifier(\n",
        "      ccp_alpha=0.000001,\n",
        "      #bootstrap= True,\n",
        "      n_estimators=peri1[num1],\n",
        "      class_weight='balanced_subsample',\n",
        "      #oob_score=True,\n",
        "      max_features=peri3[num3],\n",
        "      random_state=peri1[num1],\n",
        "  )\n",
        "  X_train, X_test, y_train, y_test = train_test_split(train_features, train_labels, test_size=0.3, random_state=368,stratify=train_labels)\n",
        "  sm= SMOTETomek(sampling_strategy='auto')\n",
        "  cur_train, cury_train=sm.fit_resample(X_train, y_train)\n",
        "  me_rf_score,y_pred,test_pred = get_score(clf, cur_train, cury_train, X_test, y_test,df_test)\n",
        "  for ii in range(75600):\n",
        "    y_or[ii]+=y_pred[ii]\n",
        "  for ii in range(28000):\n",
        "    y_t[ii]+=test_pred[ii]"
      ],
      "execution_count": null,
      "outputs": []
    },
    {
      "cell_type": "code",
      "metadata": {
        "id": "s7FRBYJfvqWT"
      },
      "source": [
        "for ii in range(75600):\n",
        "    y_or[ii]/=20\n",
        "y_pred=y_or\n",
        "for ii in range(28000):\n",
        "    y_t[ii]/=20\n",
        "y_pred=y_or\n",
        "test_pred=y_t"
      ],
      "execution_count": 149,
      "outputs": []
    },
    {
      "cell_type": "code",
      "metadata": {
        "colab": {
          "base_uri": "https://localhost:8080/",
          "height": 453
        },
        "id": "yg2RFXgw-2Uj",
        "outputId": "f20a94b2-c9f1-419b-dee8-58e0238227c7"
      },
      "source": [
        "from sklearn.metrics import roc_curve\n",
        "ns_probs = [0 for _ in range(len(y_test))]\n",
        "ns_auc = roc_auc_score(y_test, y_pred)\n",
        "lr_auc = roc_auc_score(y_test, ns_probs)\n",
        "print('Random forest: ROC AUC=%.9f' % (ns_auc))\n",
        "print('No skill: ROC AUC=%.3f' % (lr_auc))\n",
        "\n",
        "ns_fpr, ns_tpr, _ = roc_curve(y_test, ns_probs)\n",
        "lr_fpr, lr_tpr, _ = roc_curve(y_test, y_pred)\n",
        "\n",
        "plt.plot(ns_fpr, ns_tpr, linestyle='--', label='No Skill')\n",
        "plt.plot(lr_fpr, lr_tpr, marker='.', label='Random_forest')\n",
        "plt.xlabel('False Positive Rate')\n",
        "plt.ylabel('True Positive Rate')\n",
        "plt.legend()\n",
        "plt.show()\n"
      ],
      "execution_count": 150,
      "outputs": [
        {
          "output_type": "stream",
          "text": [
            "Random forest: ROC AUC=0.939832873\n",
            "No skill: ROC AUC=0.500\n",
            "Best Threshold=0.162047, G-Mean=0.888\n",
            "Random forest: ROC AUC=0.893960967\n",
            "[[52404 13897]\n",
            " [   23  9276]]\n",
            "0.5713229859571323\n",
            "23173\n",
            "0.8158730158730159\n",
            "8674\n"
          ],
          "name": "stdout"
        },
        {
          "output_type": "display_data",
          "data": {
            "image/png": "[encoded data removed]",
            "text/plain": [
              "<Figure size 432x288 with 1 Axes>"
            ]
          },
          "metadata": {
            "tags": [],
            "needs_background": "light"
          }
        }
      ]
    },
    {
      "cell_type": "code",
      "metadata": {
        "id": "YQIcwKY3sTtm"
      },
      "source": [
        "gmeans = np.sqrt(lr_tpr * (1-lr_fpr))\n",
        "ix = np.argmax(gmeans)\n",
        "print('Best Threshold=%f, G-Mean=%.3f' % (_[ix], gmeans[ix]))\n",
        "y_predd1=[]\n",
        "for j in y_pred:\n",
        "  if(j<_[ix]):\n",
        "    y_predd1.append(0)\n",
        "  else:\n",
        "    y_predd1.append(1)\n",
        "\n",
        "ns_auc = roc_auc_score(y_test, y_predd1)\n",
        "test_pred1=[]\n",
        "for j in test_pred:\n",
        "  if(j<_[ix]):\n",
        "    test_pred1.append(0)\n",
        "  else:\n",
        "    test_pred1.append(1)\n",
        "\n",
        "test_pred1=pd.Series(test_pred1)\n",
        "print('Random forest: ROC AUC=%.9f' % (ns_auc))\n",
        "\n",
        "print(confusion_matrix(y_test,y_predd1))\n",
        "print(metrics.f1_score(y_test,y_predd1))\n",
        "print(np.sum(y_predd1))\n",
        "print(accuracy_score(y_test,y_predd1))\n",
        "print(test_pred1.sum())"
      ],
      "execution_count": null,
      "outputs": []
    },
    {
      "cell_type": "code",
      "metadata": {
        "id": "N7PU_KQYsY5z"
      },
      "source": [
        "arr=np.arange(np.max([0,_[ix]-0.11]),_[ix]+0.001,0.001)\n",
        "X=[]\n",
        "Y=[]\n",
        "for ii in arr:\n",
        "  y_pred1=[]\n",
        "  for j in y_pred:\n",
        "    if(j<ii):\n",
        "      y_pred1.append(0)\n",
        "    else:\n",
        "      y_pred1.append(1)\n",
        "  ns_auc = roc_auc_score(y_test, y_pred1)\n",
        "  X.append(ii)\n",
        "  Y.append(ns_auc)\n",
        "plt.plot(X,Y)\n",
        "print(np.max(Y))"
      ],
      "execution_count": null,
      "outputs": []
    },
    {
      "cell_type": "code",
      "metadata": {
        "id": "bcB6aW422mN4"
      },
      "source": [
        "test_pred1.to_csv('fsub2.csv')"
      ],
      "execution_count": 151,
      "outputs": []
    }
  ]
}